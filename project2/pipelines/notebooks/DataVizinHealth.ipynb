{
  "nbformat": 4,
  "nbformat_minor": 0,
  "metadata": {
    "colab": {
      "provenance": []
    },
    "kernelspec": {
      "name": "python3",
      "display_name": "Python 3"
    },
    "language_info": {
      "name": "python"
    }
  },
  "cells": [
    {
      "cell_type": "markdown",
      "source": [
        "Propósito geral do notebook/script\n",
        "----------------------------------\n",
        "Este notebook realiza duas análises principais em um projeto de RNA‑seq focado em TNBC:\n",
        "1) **Processamento: lncRNA** – carrega a matriz de contagens por gene, integra a anotação\n",
        "do GTF (com lncRNAs), computa métricas (CPM, genes detectados), e gera figuras\n",
        "descritivas (distribuições por biotipo, frações por amostra, top lncRNAs).\n",
        "2) **Processamento: WGCNA (atualizado)** – carrega os arquivos exportados do WGCNA no\n",
        "formato Cytoscape (nodes/edges), estima automaticamente um *cutoff* de peso para manter\n",
        "~5% das arestas (percentil 95), filtra a rede, produz estatísticas estruturais,\n",
        "contabiliza interações por biotipo, e anota *hub genes* com termos GO via MyGene.info."
      ],
      "metadata": {
        "id": "QYbSYt2B1Gil"
      }
    },
    {
      "cell_type": "markdown",
      "source": [
        "### Comum"
      ],
      "metadata": {
        "id": "c8tNyRm23M1F"
      }
    },
    {
      "cell_type": "code",
      "source": [
        "# Usado na normalização\n",
        "try:\n",
        "    import rpy2.robjects as ro\n",
        "    from rpy2.robjects import pandas2ri\n",
        "    pandas2ri.activate()\n",
        "    have_rpy2 = True\n",
        "except Exception:\n",
        "    have_rpy2 = False\n",
        "\n",
        "if not have_rpy2:\n",
        "    import sys, subprocess\n",
        "    subprocess.check_call([sys.executable, \"-m\", \"pip\", \"install\", \"rpy2>=3.5.1\"])\n",
        "    import rpy2.robjects as ro\n",
        "    from rpy2.robjects import pandas2ri\n",
        "    pandas2ri.activate()\n",
        "\n",
        "# Instala edgeR se necessário\n",
        "ro.r('if (!requireNamespace(\"BiocManager\", quietly=TRUE)) install.packages(\"BiocManager\", repos=\"https://cloud.r-project.org\")')\n",
        "ro.r('if (!requireNamespace(\"edgeR\", quietly=TRUE)) BiocManager::install(\"edgeR\", update=FALSE, ask=FALSE)')"
      ],
      "metadata": {
        "id": "bgsX3A3nlV5W"
      },
      "execution_count": null,
      "outputs": []
    },
    {
      "cell_type": "code",
      "source": [
        "# Importando bibliotecas\n",
        "import pandas as pd\n",
        "from google.colab import drive\n",
        "import os\n",
        "import re\n",
        "import json\n",
        "import numpy as np\n",
        "import seaborn as sns\n",
        "import matplotlib.pyplot as plt\n",
        "import gc\n",
        "import math\n",
        "import itertools\n",
        "from scipy import stats\n",
        "from statsmodels.stats.multitest import multipletests\n",
        "from sklearn.decomposition import PCA\n",
        "from collections import Counter\n",
        "import requests"
      ],
      "metadata": {
        "id": "IFgaa58zepdi"
      },
      "execution_count": null,
      "outputs": []
    },
    {
      "cell_type": "code",
      "source": [
        "def parse_gtf_attributes(attribute_string, keys_to_extract):\n",
        "  \"\"\"Extrai pares chave->valor do campo 'attribute' de um GTF.\n",
        "\n",
        "  Parâmetros\n",
        "  ----------\n",
        "  attribute_string : str\n",
        "  Campo de atributos do GTF (ex.: 'gene_id \"ENSG...\"; gene_name \"TP53\"; ...').\n",
        "  keys_to_extract : list[str]\n",
        "  Lista de chaves desejadas (ex.: ['gene_id','gene_name','gene_type']).\n",
        "\n",
        "  Retorna\n",
        "  -------\n",
        "  dict\n",
        "  Dicionário contendo apenas as chaves pedidas, quando presentes.\n",
        "  \"\"\"\n",
        "  pattern = re.compile(r'(\\w+)\\s+\"([^\"]+)\"')\n",
        "  extracted = {}\n",
        "  for k, v in pattern.findall(str(attribute_string)):\n",
        "      if k in keys_to_extract:\n",
        "          extracted[k] = v\n",
        "  return extracted\n",
        "\n",
        "def tidy_counts_by_biotype(df, sample_cols, biotype_col='gene_type'):\n",
        "  \"\"\"Agrega contagens por amostra × biotipo e calcula fração por amostra.\n",
        "\n",
        "  Parâmetros\n",
        "  ----------\n",
        "  df : pd.DataFrame\n",
        "  DataFrame com colunas de contagens por amostra e uma coluna de biotipo.\n",
        "  sample_cols : list[str]\n",
        "  Lista com os nomes das colunas de amostra.\n",
        "  biotype_col : str, padrão 'gene_type'\n",
        "  Nome da coluna com o biotipo do gene (ex.: 'lncRNA', 'protein_coding').\n",
        "\n",
        "  Retorna\n",
        "  -------\n",
        "  pd.DataFrame\n",
        "  Tabela no formato *long* com colunas: 'sample', biotype_col, 'counts',\n",
        "  'total_counts' e 'fraction' (fração dentro da amostra).\n",
        "  \"\"\"\n",
        "  melted = df.melt(id_vars=[biotype_col], value_vars=sample_cols,\n",
        "                    var_name='sample', value_name='counts')\n",
        "  by = melted.groupby(['sample', biotype_col], as_index=False)['counts'].sum()\n",
        "  totals = by.groupby('sample', as_index=False)['counts'].sum().rename(columns={'counts':'total_counts'})\n",
        "  out = by.merge(totals, on='sample', how='left')\n",
        "  out['fraction'] = np.where(out['total_counts']>0, out['counts']/out['total_counts'], 0.0)\n",
        "  return out\n",
        "\n",
        "def make_cpm(counts_df, sample_cols):\n",
        "  \"\"\"Calcula CPM (counts per million) por coluna de amostra.\n",
        "\n",
        "  Parâmetros\n",
        "  ----------\n",
        "  counts_df : pd.DataFrame\n",
        "  Matriz de contagens com uma linha por gene e colunas de amostras.\n",
        "  sample_cols : list[str]\n",
        "  Nomes das colunas de amostra.\n",
        "\n",
        "  Retorna\n",
        "  -------\n",
        "  (pd.DataFrame, pd.Series)\n",
        "  - DataFrame de CPM com mesma forma que `counts_df[sample_cols]`.\n",
        "  - Série com *library sizes* por amostra, após substituir zeros por NaN.\n",
        "  \"\"\"\n",
        "  lib_sizes = counts_df[sample_cols].sum(axis=0)\n",
        "  lib_sizes = lib_sizes.replace(0, np.nan)\n",
        "  cpm = counts_df[sample_cols].div(lib_sizes, axis=1) * 1e6\n",
        "  return cpm, lib_sizes\n",
        "\n",
        "def load_gtf_gene_biotype(gtf_file):\n",
        "  \"\"\"Lê um GTF e retorna um mapa gene_name → gene_type, priorizando biotipos.\n",
        "\n",
        "\n",
        "  Estratégia:\n",
        "  - Lê o GTF e *normaliza* o campo attribute.\n",
        "  - Aceita tanto `gene_type` quanto `gene_biotype`.\n",
        "  - Filtra apenas features `gene` e remove duplicatas.\n",
        "  - Quando um gene_name tem múltiplos biotipos (raro), prioriza: lncRNA > protein_coding > outros.\n",
        "\n",
        "\n",
        "  Retorna DataFrame com colunas ['gene_name','gene_type'].\n",
        "  \"\"\"\n",
        "  cols = ['seqname','source','feature','start','end','score','strand','frame','attribute']\n",
        "  g = pd.read_csv(gtf_file, sep='\\t', comment='#', header=None, names=cols)\n",
        "\n",
        "  # extrair atributos do GTF (robusto a gene_type vs gene_biotype)\n",
        "  desired = ['gene_id','gene_name','gene_type','gene_biotype']\n",
        "  attr = pd.json_normalize(g['attribute'].apply(lambda s: parse_gtf_attributes(s, desired)))\n",
        "\n",
        "  # padronizar para a coluna 'gene_type'\n",
        "  if 'gene_type' not in attr or attr['gene_type'].isna().all():\n",
        "      attr['gene_type'] = attr.get('gene_biotype')\n",
        "\n",
        "  g = pd.concat([g.drop(columns=['attribute']), attr], axis=1)\n",
        "\n",
        "  # manter apenas nível gene\n",
        "  g = (g[g['feature']=='gene'][['gene_name','gene_type']]\n",
        "          .dropna()\n",
        "          .drop_duplicates())\n",
        "\n",
        "  # resolver nomes com biotipos múltiplos (prioriza lncRNA > protein_coding > outros)\n",
        "  rank = {'lncRNA': 2, 'protein_coding': 1}\n",
        "  g['rank'] = g['gene_type'].map(rank).fillna(0)\n",
        "  g = g.sort_values(['gene_name','rank'], ascending=[True,False]).drop_duplicates('gene_name')\n",
        "\n",
        "  return g[['gene_name','gene_type']]\n",
        "\n",
        "def parse_traits_from_sample(sample):\n",
        "  \"\"\"Extrai traços/condições do nome de amostra (útil para análise posterior).\n",
        "\n",
        "\n",
        "  Retorna um dicionário binário com chaves: DEX, BRM014, SIGATA6, VEH, DMSO, H4, H24.\n",
        "  - Usa *string matching* simples; garanta convenção consistente nos nomes de amostras.\n",
        "  \"\"\"\n",
        "  s = sample.upper()\n",
        "  traits = dict(DEX=0, BRM014=0, SIGATA6=0, VEH=0, DMSO=0, H4=0, H24=0)\n",
        "  if 'DEX' in s: traits['DEX']=1\n",
        "  if 'BRM014' in s: traits['BRM014']=1\n",
        "  if 'SIGATA6' in s: traits['SIGATA6']=1\n",
        "  if 'VEH' in s: traits['VEH']=1\n",
        "  if 'DMSO' in s: traits['DMSO']=1\n",
        "  if '4H' in s: traits['H4']=1\n",
        "  if '24H' in s: traits['H24']=1\n",
        "  return traits\n",
        "\n",
        "def summarize_detection(mask, label):\n",
        "  \"\"\"Resume a detecção de genes para um critério dado por `mask`.\n",
        "\n",
        "  Parâmetros\n",
        "  ----------\n",
        "  mask : pd.Series[bool]\n",
        "  *Boolean mask* indicando quais linhas/genes são considerados detectados.\n",
        "  label : str\n",
        "  Rótulo descritivo do critério (usado em gráficos e tabelas).\n",
        "\n",
        "  Retorna\n",
        "  -------\n",
        "  dict\n",
        "  Contém: total de genes detectados, e subtotais por biotipo (lncRNA, protein_coding, outros).\n",
        "  \"\"\"\n",
        "  sub = merged[mask]\n",
        "  out = {\n",
        "      'label': label,\n",
        "      'n_genes_detected': int(sub.shape[0]),\n",
        "      'n_lnc_detected':   int(sub[sub['gene_type']=='lncRNA'].shape[0]),\n",
        "      'n_pc_detected':    int(sub[sub['gene_type']=='protein_coding'].shape[0]),\n",
        "      'n_other_detected': int(sub[~sub['gene_type'].isin(['lncRNA','protein_coding'])].shape[0]),\n",
        "  }\n",
        "  return out\n",
        "\n",
        "def fetch_go_terms_mygene(symbol_or_ensg):\n",
        "  \"\"\"Consulta termos GO (BP/MF/CC) via MyGene.info para um gene humano.\n",
        "\n",
        "  Parâmetros\n",
        "  ----------\n",
        "  symbol_or_ensg : str\n",
        "  Símbolo do gene (ex.: 'TP53') ou ENSG (ex.: 'ENSG00000141510').\n",
        "\n",
        "  Retorna\n",
        "  -------\n",
        "  tuple(list, list, list)\n",
        "  Três listas de termos para GO: BP, MF e CC.\n",
        "\n",
        "  Comentários\n",
        "  --------\n",
        "  - Em caso de múltiplos hits, pega o primeiro.\n",
        "  \"\"\"\n",
        "  base = \"https://mygene.info/v3/query\"\n",
        "  q = f\"symbol:{symbol_or_ensg}\"\n",
        "  if str(symbol_or_ensg).upper().startswith('ENSG'):\n",
        "      q = f\"ensembl.gene:{symbol_or_ensg}\"\n",
        "  params = {\"q\": q, \"species\": \"human\", \"fields\": \"symbol,name,go.BP.term,go.MF.term,go.CC.term\", \"size\": 1}\n",
        "  try:\n",
        "      r = requests.get(base, params=params, timeout=20)\n",
        "      r.raise_for_status()\n",
        "      hits = r.json().get('hits', [])\n",
        "      if not hits:\n",
        "          return [],[],[]\n",
        "      hit = hits[0]\n",
        "      def _collect(branch):\n",
        "          terms = hit.get('go', {}).get(branch, [])\n",
        "          if isinstance(terms, dict): terms = [terms]\n",
        "          return [t.get('term','') for t in terms if isinstance(t, dict) and 'term' in t]\n",
        "      return _collect('BP'), _collect('MF'), _collect('CC')\n",
        "  except Exception:\n",
        "      return [],[],[]"
      ],
      "metadata": {
        "id": "n_y0uVOX-PJD"
      },
      "execution_count": null,
      "outputs": []
    },
    {
      "cell_type": "code",
      "source": [
        "# ============================\n",
        "# MONTAGEM DO GOOGLE DRIVE (Colab)\n",
        "# ============================\n",
        "drive.mount('/content/drive')"
      ],
      "metadata": {
        "id": "M953NnjabWbO"
      },
      "execution_count": null,
      "outputs": []
    },
    {
      "cell_type": "code",
      "execution_count": null,
      "metadata": {
        "id": "nvxq_IaZb7gw"
      },
      "outputs": [],
      "source": [
        "# ============================\n",
        "# PARÂMETROS E CAMINHOS DO PROJETO\n",
        "# ============================\n",
        "SOURCE_FOLDER = '/content/drive/MyDrive/Saude_lncRNA'\n",
        "COUNTS_TSV   = f'{SOURCE_FOLDER}/data/processed/salmon.merged.gene_counts.tsv'\n",
        "CHIPSEQ_COUNTS_TSV   = f'{SOURCE_FOLDER}/data/processed/chip_seq_salmon.merged.transcript_counts.tsv'\n",
        "GTF_FILE     = f'{SOURCE_FOLDER}/data/processed/Anotacao_com_lncRNA.gtf'\n",
        "NODE_FILE  = f'{SOURCE_FOLDER}/data/processed/CytoscapeInput-nodes.txt'\n",
        "EDGE_FILE  = f'{SOURCE_FOLDER}/data/processed/CytoscapeInput-edges.txt'\n",
        "\n",
        "FIG_DIR      = f'{SOURCE_FOLDER}/figures'\n",
        "LNCRNA_DIR         = f'{FIG_DIR}/lncrna'\n",
        "CHIPSEQ_LNCRNA_DIR         = f'{FIG_DIR}/lncrna/chip-seq'\n",
        "WGCNA_DIR         = f'{FIG_DIR}/wgcna'\n",
        "\n",
        "# Diretórios de entrada/saída específicos do WGCNA\n",
        "WGCNA_INDIR   = os.path.dirname(NODE_FILE)\n",
        "WGCNA_OUTDIR  = WGCNA_DIR\n",
        "HUBS_CSV = f\"{SOURCE_FOLDER}/data/processed/hubs.csv\"\n",
        "MODULE_EXPORT_DIR = f\"{WGCNA_DIR}/modules\"\n",
        "\n",
        "# Garante que diretórios de saída existam\n",
        "os.makedirs(LNCRNA_DIR, exist_ok=True)\n",
        "os.makedirs(CHIPSEQ_LNCRNA_DIR, exist_ok=True)\n",
        "os.makedirs(WGCNA_DIR, exist_ok=True)\n",
        "os.makedirs(MODULE_EXPORT_DIR, exist_ok=True)\n",
        "\n",
        "# Hiperparâmetros e *thresholds* usados em múltiplas etapas\n",
        "MIN_COUNT = 10 # número mínimo de *reads* em uma amostra para contar como detectado\n",
        "MIN_SAMPLES = 1 # número mínimo de amostras atingindo MIN_COUNT\n",
        "\n",
        "PERCENTILE_THRESHOLD = 0.95 # 95th percentile\n",
        "\n",
        "# Genes para usar nos hubs/modulos\n",
        "TARGET_GENES = {'GATA6','GATA6-AS1'}  # ajuste se quisermos destacar outros"
      ]
    },
    {
      "cell_type": "markdown",
      "source": [
        "### Processamento: lncRNA"
      ],
      "metadata": {
        "id": "Xkn45HDCcFB_"
      }
    },
    {
      "cell_type": "code",
      "source": [
        "# ==========================================\n",
        "# BLOCO: Processamento — lncRNA (descrição)\n",
        "# ==========================================\n",
        "# Este bloco integra contagens com a anotação, computa CPM, sumariza detecção\n",
        "# e gera figuras descritivas (A–D) em FIG_DIR/lncrna."
      ],
      "metadata": {
        "id": "T3QUuPo52mVd"
      },
      "execution_count": null,
      "outputs": []
    },
    {
      "cell_type": "markdown",
      "source": [
        "#### lncRNA"
      ],
      "metadata": {
        "id": "DCtbhnwNkIt2"
      }
    },
    {
      "cell_type": "code",
      "source": [
        "# ---------- 1) Ler counts ----------\n",
        "gene_df = pd.read_csv(COUNTS_TSV, sep='\\t')\n",
        "\n",
        "# Identificar colunas de amostra\n",
        "fixed_cols = {'gene_id', 'gene_name'}\n",
        "sample_cols = [c for c in gene_df.columns if c not in fixed_cols]\n",
        "\n",
        "# Remover versões do gene_id (ex.: ENSG000001.1 -> ENSG000001)\n",
        "gene_df['gene_id_base'] = gene_df['gene_id'].astype(str).str.split('.').str[0]"
      ],
      "metadata": {
        "id": "lSo91QIElOd9"
      },
      "execution_count": null,
      "outputs": []
    },
    {
      "cell_type": "code",
      "source": [
        "# ---------- 2) Ler GTF (somente 'gene') e extrair atributos ----------\n",
        "# Definir nomes de colunas padrão para GTF e ler o arquivo ignorando comentários (#)\n",
        "gtf_cols = ['seqname','source','feature','start','end','score','strand','frame','attribute']\n",
        "\n",
        "gtf_raw = pd.read_csv(GTF_FILE, sep='\\t', comment='#', header=None, names=gtf_cols)\n",
        "\n",
        "# Extrair apenas as chaves desejadas do campo attribute\n",
        "desired_keys = ['gene_id','gene_name','gene_type']\n",
        "attr = gtf_raw['attribute'].apply(lambda s: parse_gtf_attributes(s, desired_keys))\n",
        "attr_df = pd.json_normalize(attr)\n",
        "\n",
        "gtf_df = pd.concat([gtf_raw.drop(columns=['attribute']), attr_df], axis=1)\n",
        "\n",
        "# Filtrar somente a feature=gene, remove duplicatas e pega colunas essenciais\n",
        "gtf_genes = (gtf_df[gtf_df['feature']=='gene']\n",
        "             [['gene_id','gene_name','gene_type']]\n",
        "             .drop_duplicates())\n",
        "\n",
        "# Remove versões do gene_id para compatibilizar com a contagem\n",
        "gtf_genes['gene_id_base'] = gtf_genes['gene_id'].astype(str).str.split('.').str[0]"
      ],
      "metadata": {
        "id": "-OOX9TfmlObu"
      },
      "execution_count": null,
      "outputs": []
    },
    {
      "cell_type": "code",
      "source": [
        "# ---------- 3) Merge counts + anotação ----------\n",
        "# Join por gene_id_base e traz gene_type/gene_name do GTF\n",
        "merged = (gene_df\n",
        "          .merge(gtf_genes[['gene_id_base','gene_type','gene_name']],\n",
        "                 on='gene_id_base', how='left', suffixes=('', '_gtf')))\n",
        "\n",
        "# Priorizar gene_name do counts quando existir; caso contrário, usar do GTF\n",
        "merged['gene_name_final'] = merged['gene_name'].fillna(merged['gene_name_gtf'])\n",
        "merged['gene_type'] = merged['gene_type'].fillna('unknown')"
      ],
      "metadata": {
        "id": "sNEvhhd9lOZI"
      },
      "execution_count": null,
      "outputs": []
    },
    {
      "cell_type": "code",
      "source": [
        "# ---------- 4) Normalização TMM (edgeR) → logCPM ----------\n",
        "# Prepara matriz de contagens (genes x amostras) para o R\n",
        "counts_mat = merged[sample_cols].copy()\n",
        "counts_mat.index = merged['gene_name_final'].fillna(merged['gene_id']).astype(str)\n",
        "\n",
        "ro.globalenv['counts_df'] = pandas2ri.py2rpy(counts_mat)\n",
        "ro.r(\"\"\"\n",
        "suppressPackageStartupMessages(library(edgeR))\n",
        "dge <- DGEList(counts = as.matrix(counts_df))\n",
        "# TMM\n",
        "dge <- calcNormFactors(dge, method = \"TMM\")\n",
        "# logCPM com prior.count=1 (estável para baixa contagem)\n",
        "logCPM <- cpm(dge, log = TRUE, prior.count = 1)\n",
        "\"\"\")\n",
        "logCPM_df = pandas2ri.rpy2py(ro.r('as.data.frame(logCPM)'))\n",
        "logCPM_df.index.name = 'gene'\n",
        "logCPM_df.columns = sample_cols"
      ],
      "metadata": {
        "id": "gHZydvaMlOTl"
      },
      "execution_count": null,
      "outputs": []
    },
    {
      "cell_type": "code",
      "source": [
        "# Anexa média de logCPM ao merged (para gráficos/ordenações)\n",
        "merged['mean_logCPM'] = logCPM_df.reindex(counts_mat.index).mean(axis=1).values"
      ],
      "metadata": {
        "id": "kbfoFDUolOJy"
      },
      "execution_count": null,
      "outputs": []
    },
    {
      "cell_type": "code",
      "source": [
        "# ---------- 5) Definir \"detectados\" ----------\n",
        "# Critério 1 (liberal): pelo menos 1 read em qualquer amostra\n",
        "merged['total_counts'] = merged[sample_cols].sum(axis=1)\n",
        "detected_any = merged['total_counts'] > 0\n",
        "\n",
        "# Critério 2 (stringente): >= MIN_COUNT reads em pelo menos MIN_SAMPLES amostras\n",
        "detected_stringent = (merged[sample_cols] >= MIN_COUNT).sum(axis=1) >= MIN_SAMPLES"
      ],
      "metadata": {
        "id": "PevoPWxSlc1v"
      },
      "execution_count": null,
      "outputs": []
    },
    {
      "cell_type": "code",
      "source": [
        "# ---------- 6) Métricas globais ----------\n",
        "# Resumos por critério — número de genes detectados por biotipo\n",
        "summary_any = summarize_detection(detected_any, 'any_read>0')\n",
        "summary_str = summarize_detection(detected_stringent, f'>={MIN_COUNT} reads in >={MIN_SAMPLES} samples')\n",
        "\n",
        "\n",
        "# Frações de reads por biotipo (global, somando amostras)\n",
        "reads_by_biotype = merged.groupby('gene_type')[sample_cols].sum()\n",
        "global_reads = reads_by_biotype.sum(axis=1).sort_values(ascending=False)\n",
        "global_total = global_reads.sum()\n",
        "\n",
        "# Fração total por biotipo (útil para checar o peso de lncRNA vs PC)\n",
        "global_fracs = (global_reads / global_total).rename('fraction')"
      ],
      "metadata": {
        "id": "6HGFV5ZOleU0"
      },
      "execution_count": null,
      "outputs": []
    },
    {
      "cell_type": "code",
      "source": [
        "# ---------- 7) CPM clássico (não-normalizado) para compatibilidade com v0 dos gráficos ----------\n",
        "# CPM médio por gene (média nas colunas de amostra)\n",
        "cpm_raw, lib_sizes = make_cpm(merged, sample_cols)\n",
        "merged['mean_cpm'] = cpm_raw.mean(axis=1)"
      ],
      "metadata": {
        "id": "V2h03OT4lh9e"
      },
      "execution_count": null,
      "outputs": []
    },
    {
      "cell_type": "code",
      "source": [
        "# ---------- 8) Tabelas auxiliares para gráficos ----------\n",
        "\n",
        "# (a) Tabela longa para barplot: genes detectados por biotipo × critério\n",
        "det_tab = pd.DataFrame([summary_any, summary_str])\n",
        "det_long = det_tab.melt(id_vars=['label'],\n",
        "                        value_vars=['n_lnc_detected','n_pc_detected','n_other_detected'],\n",
        "                        var_name='class', value_name='n')\n",
        "det_long['class'] = det_long['class'].map({'n_lnc_detected':'lncRNA',\n",
        "                                           'n_pc_detected':'protein_coding',\n",
        "                                           'n_other_detected':'outros'})\n",
        "det_long['label'] = det_long['label'].map({'any_read>0':'Qualquer leitura (>0)',\n",
        "                                          f'>={MIN_COUNT} reads in >={MIN_SAMPLES} samples':\n",
        "                                          f'Robusto (≥{MIN_COUNT} reads em ≥{MIN_SAMPLES} amostras)'})\n",
        "\n",
        "\n",
        "# (b) Fração por amostra (stacked 100%)\n",
        "# Constrói tabela por amostra×biotipo e colapsa biotipos menos comuns em \"outros\"\n",
        "tidy = tidy_counts_by_biotype(merged, sample_cols, 'gene_type')\n",
        "\n",
        "main_biotypes = ['protein_coding','lncRNA']\n",
        "tidy_plot = tidy.copy()\n",
        "tidy_plot['biotype'] = np.where(tidy_plot['gene_type'].isin(main_biotypes),\n",
        "                                tidy_plot['gene_type'], 'outros')\n",
        "tidy_plot = (tidy_plot.groupby(['sample','biotype'], as_index=False)\n",
        "             [['counts','total_counts']].sum())\n",
        "tidy_plot['fraction'] = np.where(tidy_plot['total_counts']>0,\n",
        "                                 tidy_plot['counts']/tidy_plot['total_counts'], 0.0)\n",
        "\n",
        "# (c) Distribuição de expressão (log10 CPM) para lncRNA vs protein_coding\n",
        "expr_dist = (merged[merged['gene_type'].isin(['lncRNA','protein_coding'])]\n",
        "             [['gene_type','mean_logCPM']].copy())\n",
        "\n",
        "expr_dist['log10_mean_cpm_norm'] = expr_dist['mean_logCPM']  # já é logCPM\n"
      ],
      "metadata": {
        "id": "yuHpo2czlh3k"
      },
      "execution_count": null,
      "outputs": []
    },
    {
      "cell_type": "code",
      "source": [
        "# ---------- 8) Gráficos ----------\n",
        "# Configuração estética global do seaborn/matplotlib\n",
        "sns.set_theme(style='whitegrid', context='talk')\n",
        "\n",
        "# A) Genes detectados por biotipo (dois critérios)\n",
        "plt.figure(figsize=(10,6))\n",
        "ax = sns.barplot(data=det_long, x='label', y='n', hue='class',\n",
        "                 palette={'protein_coding':'#4c78a8','lncRNA':'#f58518','outros':'#54a24b'})\n",
        "ax.set_xlabel('')\n",
        "ax.set_ylabel('Genes detectados')\n",
        "ax.set_title('Genes detectados por biotipo')\n",
        "ax.legend(title='Biotipo', frameon=False)\n",
        "\n",
        "plt.tight_layout()\n",
        "\n",
        "plt.savefig(f'{LNCRNA_DIR}/A_genes_detectados_biotipo.png', dpi=300)\n",
        "plt.close()"
      ],
      "metadata": {
        "id": "NQHiqcuhljl1"
      },
      "execution_count": null,
      "outputs": []
    },
    {
      "cell_type": "code",
      "source": [
        "# B) Fração de reads por amostra (stacked 100%)\n",
        "# montar barras empilhadas 100%\n",
        "samples = tidy_plot['sample'].unique()\n",
        "biotypes = ['protein_coding','lncRNA','outros']\n",
        "plot_mat = (tidy_plot.pivot(index='sample', columns='biotype', values='fraction')\n",
        "            .reindex(columns=biotypes).fillna(0.0))\n",
        "plot_mat = plot_mat.sort_index()\n",
        "\n",
        "colors = {'protein_coding':'#4c78a8','lncRNA':'#f58518','outros':'#54a24b'}\n",
        "plt.figure(figsize=(max(12, 0.5*len(samples)), 6))\n",
        "bottom = np.zeros(len(plot_mat))\n",
        "for bt in biotypes:\n",
        "    vals = plot_mat[bt].values\n",
        "    plt.bar(plot_mat.index, vals, bottom=bottom, color=colors[bt], label=bt)\n",
        "    bottom += vals\n",
        "plt.xticks(rotation=75, ha='right')\n",
        "plt.ylim(0,1)\n",
        "plt.ylabel('Fração de reads')\n",
        "plt.title('Fração de reads por biotipo em cada amostra')\n",
        "plt.legend(title='Biotipo', frameon=False)\n",
        "plt.tight_layout()\n",
        "\n",
        "plt.savefig(f'{LNCRNA_DIR}/B_fracao_reads_por_amostra.png', dpi=300)\n",
        "plt.close()"
      ],
      "metadata": {
        "id": "GIwDXuvtlmRV"
      },
      "execution_count": null,
      "outputs": []
    },
    {
      "cell_type": "code",
      "source": [
        "# C) Distribuição de expressão (mean CPM) lncRNA vs protein_coding\n",
        "plt.figure(figsize=(8,6))\n",
        "\n",
        "ax = sns.violinplot(data=expr_dist, x='gene_type', y='log10_mean_cpm_norm',\n",
        "                    palette={'protein_coding':'#4c78a8','lncRNA':'#f58518'}, cut=0)\n",
        "\n",
        "# Overlay com pontos (amostra de até 2000 genes para não sobrecarregar o gráfico)\n",
        "sns.stripplot(data=expr_dist.sample(min(2000, expr_dist.shape[0]), random_state=42),\n",
        "              x='gene_type', y='log10_mean_cpm_norm', color='k', size=1, alpha=0.3, jitter=0.2)\n",
        "ax.set_xlabel('')\n",
        "ax.set_ylabel('mean logCPM (TMM)')\n",
        "ax.set_title('Distribuição de expressão (TMM → logCPM)')\n",
        "plt.tight_layout()\n",
        "\n",
        "plt.savefig(f'{LNCRNA_DIR}/C_distribuicao_expressao_log10meanCPM.png', dpi=300)\n",
        "plt.close()"
      ],
      "metadata": {
        "id": "WR9UL9r5lmMP"
      },
      "execution_count": null,
      "outputs": []
    },
    {
      "cell_type": "code",
      "source": [
        "# D) Top 20 lncRNAs (por expressão média CPM)\n",
        "plt.figure(figsize=(8,10))\n",
        "\n",
        "top_lnc = (merged[merged['gene_type']=='lncRNA']\n",
        "           .sort_values('mean_logCPM', ascending=False)\n",
        "           .loc[:, ['gene_id','gene_name_final','mean_logCPM']].head(20))\n",
        "\n",
        "top_lnc_plot = top_lnc.iloc[::-1]  # inverter para barras horizontais de baixo para cima\n",
        "labels = top_lnc_plot['gene_name_final'].fillna(top_lnc_plot['gene_id'])\n",
        "plt.barh(labels, top_lnc_plot['mean_logCPM'], color='#f58518')\n",
        "plt.xlabel('mean logCPM (TMM)')\n",
        "plt.title('Top 20 lncRNAs por expressão (TMM → logCPM)')\n",
        "plt.tight_layout()\n",
        "\n",
        "plt.savefig(f'{LNCRNA_DIR}/D_top20_lncRNAs_meanCPM.png', dpi=300)\n",
        "plt.close()"
      ],
      "metadata": {
        "id": "FUsMSM5AlmF5"
      },
      "execution_count": null,
      "outputs": []
    },
    {
      "cell_type": "code",
      "source": [
        "# ---------- 9) Conjunto de lncRNAs \"robustos\" para usar no WGCNA ----------\n",
        "robust_lnc_set = set(merged.loc[(merged['gene_type']=='lncRNA') & detected_stringent, 'gene_name_final'].str.upper())"
      ],
      "metadata": {
        "id": "V8PluU8HlxCl"
      },
      "execution_count": null,
      "outputs": []
    },
    {
      "cell_type": "code",
      "source": [
        "# === Slide helper: numbers for \"Processamento: lncRNA\" ===\n",
        "# Uses variables already created above:\n",
        "# - gene_df, merged, sample_cols\n",
        "# - detected_any (≥1 read in any sample)\n",
        "# - detected_stringent (≥10 reads in ≥MIN_SAMPLES samples)\n",
        "# - global_fracs (fractions by gene_type across all reads)\n",
        "\n",
        "# 1) Universe (rows in count matrix)\n",
        "universe_n = int(gene_df.shape[0])\n",
        "\n",
        "# 2) Detected (≥1 read in any sample)\n",
        "det_total = int(detected_any.sum())\n",
        "det_lnc   = int(((merged['gene_type'] == 'lncRNA') & detected_any).sum())\n",
        "det_pc    = int(((merged['gene_type'] == 'protein_coding') & detected_any).sum())\n",
        "\n",
        "# 3) Robust detected (≥10 reads) — MIN_SAMPLES governs how many samples must have ≥10\n",
        "rob_total = int(detected_stringent.sum())\n",
        "rob_lnc   = int(((merged['gene_type'] == 'lncRNA') & detected_stringent).sum())\n",
        "rob_pc    = int(((merged['gene_type'] == 'protein_coding') & detected_stringent).sum())\n",
        "\n",
        "# 4) Global read distribution by biotype (protein_coding, lncRNA, others)\n",
        "biotype_series = merged['gene_type'].where(\n",
        "    merged['gene_type'].isin(['protein_coding','lncRNA']), other='outros'\n",
        ")\n",
        "reads_sum = merged.groupby(biotype_series)[sample_cols].sum().sum(axis=1)\n",
        "reads_pct = (reads_sum / reads_sum.sum() * 100).reindex(\n",
        "    ['protein_coding','lncRNA','outros']\n",
        ").fillna(0).round(1)\n",
        "\n",
        "# Save a tiny CSV for record/slide\n",
        "slide_tbl = pd.DataFrame({\n",
        "    'metric': ['universe_genes','detected_total','detected_lncRNA','detected_protein_coding',\n",
        "               'robust_total','robust_lncRNA','robust_protein_coding',\n",
        "               'reads_pct_protein_coding','reads_pct_lncRNA','reads_pct_outros'],\n",
        "    'value':  [universe_n, det_total, det_lnc, det_pc,\n",
        "               rob_total, rob_lnc, rob_pc,\n",
        "               reads_pct['protein_coding'], reads_pct['lncRNA'], reads_pct['outros']]\n",
        "})\n",
        "slide_tbl.to_csv(f'{LNCRNA_DIR}/lncrna_slide_numbers.csv', index=False)\n",
        "\n",
        "# Texto para o slide\n",
        "print(f\"Universo: {universe_n:,} genes na matriz de contagem (GSE261989, BT-549).\")\n",
        "print(f\"Detectados (≥1 read em qualquer amostra): {det_total:,} genes\")\n",
        "print(f\"  • lncRNA: {det_lnc:,}\")\n",
        "print(f\"  • protein_coding: {det_pc:,}\")\n",
        "print(f\"Detectados robustos (≥10 reads): {rob_total:,} genes \")\n",
        "print(f\"  • lncRNA: {rob_lnc:,}\")\n",
        "print(f\"  • protein_coding: {rob_pc:,}\")\n",
        "print(\"Distribuição global de reads por biotipo (soma em todas as amostras):\")\n",
        "print(f\"  • protein_coding: {reads_pct['protein_coding']:.1f}%\")\n",
        "print(f\"  • lncRNA: {reads_pct['lncRNA']:.1f}%\")\n",
        "print(f\"  • outros: {reads_pct['outros']:.1f}%\")"
      ],
      "metadata": {
        "id": "mlyW-qp2WZgx"
      },
      "execution_count": null,
      "outputs": []
    },
    {
      "cell_type": "markdown",
      "source": [
        "#### Chip-Seq"
      ],
      "metadata": {
        "id": "wY1MRLOUkM4u"
      }
    },
    {
      "cell_type": "code",
      "source": [
        "# ---------- 1) Ler counts ----------\n",
        "gene_df = pd.read_csv(CHIPSEQ_COUNTS_TSV, sep='\\t')\n",
        "\n",
        "# Identificar colunas de amostra\n",
        "fixed_cols = {'gene_id', 'gene_name'}\n",
        "sample_cols = [c for c in gene_df.columns if c not in fixed_cols]\n",
        "\n",
        "# Remover versões do gene_id (ex.: ENSG000001.1 -> ENSG000001)\n",
        "gene_df['gene_id_base'] = gene_df['gene_id'].astype(str).str.split('.').str[0]"
      ],
      "metadata": {
        "id": "98qOBQzUcoBW"
      },
      "execution_count": null,
      "outputs": []
    },
    {
      "cell_type": "code",
      "source": [
        "# ---------- 2) Ler GTF (somente 'gene') e extrair atributos ----------\n",
        "# Definir nomes de colunas padrão para GTF e ler o arquivo ignorando comentários (#)\n",
        "gtf_cols = ['seqname','source','feature','start','end','score','strand','frame','attribute']\n",
        "\n",
        "gtf_raw = pd.read_csv(GTF_FILE, sep='\\t', comment='#', header=None, names=gtf_cols)\n",
        "\n",
        "# Extrair apenas as chaves desejadas do campo attribute\n",
        "desired_keys = ['gene_id','gene_name','gene_type']\n",
        "attr = gtf_raw['attribute'].apply(lambda s: parse_gtf_attributes(s, desired_keys))\n",
        "attr_df = pd.json_normalize(attr)\n",
        "\n",
        "gtf_df = pd.concat([gtf_raw.drop(columns=['attribute']), attr_df], axis=1)\n",
        "\n",
        "# Filtrar somente a feature=gene, remove duplicatas e pega colunas essenciais\n",
        "gtf_genes = (gtf_df[gtf_df['feature']=='gene']\n",
        "             [['gene_id','gene_name','gene_type']]\n",
        "             .drop_duplicates())\n",
        "\n",
        "# Remove versões do gene_id para compatibilizar com a contagem\n",
        "gtf_genes['gene_id_base'] = gtf_genes['gene_id'].astype(str).str.split('.').str[0]"
      ],
      "metadata": {
        "id": "6HeUx7tYeObC"
      },
      "execution_count": null,
      "outputs": []
    },
    {
      "cell_type": "code",
      "source": [
        "# ---------- 3) Merge counts + anotação ----------\n",
        "# Join por gene_id_base e traz gene_type/gene_name do GTF\n",
        "merged = (gene_df\n",
        "          .merge(gtf_genes[['gene_id_base','gene_type','gene_name']],\n",
        "                 on='gene_id_base', how='left', suffixes=('', '_gtf')))\n",
        "\n",
        "merged['gene_name_final'] = merged['gene_name']\n",
        "merged['gene_type'] = merged['gene_type'].fillna('unknown')"
      ],
      "metadata": {
        "id": "sEL4NoOGekLv"
      },
      "execution_count": null,
      "outputs": []
    },
    {
      "cell_type": "code",
      "source": [
        "# ---------- 4) Normalização TMM (edgeR) → logCPM (robusta) ----------\n",
        "\n",
        "# 4.0  Matriz genes x amostras\n",
        "counts_mat = merged[sample_cols].copy()\n",
        "counts_mat.index = merged['gene_name_final'].fillna(merged['gene_id']).astype(str)\n",
        "\n",
        "# 4.1  Saneamento p/ edgeR\n",
        "# - garantir numeric, remover NA\n",
        "counts_mat = counts_mat.apply(pd.to_numeric, errors='coerce').fillna(0)\n",
        "\n",
        "# - agrupar nomes duplicados somando\n",
        "counts_mat = counts_mat.groupby(counts_mat.index).sum()\n",
        "\n",
        "# - zerar negativos e garantir inteiros\n",
        "neg_n = int((counts_mat < 0).sum().sum())\n",
        "if neg_n > 0:\n",
        "    print(f\"[WARN] {neg_n} valores negativos → definidos como 0 para edgeR.\")\n",
        "counts_mat = counts_mat.clip(lower=0).round().astype(np.int64)\n",
        "\n",
        "# - remover genes com soma 0\n",
        "counts_mat = counts_mat.loc[counts_mat.sum(axis=1) > 0]\n",
        "\n",
        "# - remover amostras com biblioteca 0 (causa do 'median(f75)' NA)\n",
        "lib_sizes = counts_mat.sum(axis=0)\n",
        "zero_lib_cols = lib_sizes[lib_sizes == 0].index.tolist()\n",
        "if zero_lib_cols:\n",
        "    print(f\"[WARN] Removendo {len(zero_lib_cols)} amostra(s) com soma de contagens = 0: {zero_lib_cols}\")\n",
        "    counts_mat = counts_mat.drop(columns=zero_lib_cols)\n",
        "    # atualiza sample_cols para refletir as colunas mantidas\n",
        "    sample_cols = [c for c in sample_cols if c not in zero_lib_cols]\n",
        "\n",
        "# checagem final\n",
        "assert counts_mat.shape[1] > 0, \"Nenhuma amostra com contagens > 0 restou após saneamento.\"\n",
        "\n",
        "# 4.2  Enviar para R e normalizar (TMM; fallback TMMwsp se necessário)\n",
        "from rpy2.robjects.conversion import localconverter\n",
        "from rpy2.robjects import default_converter\n",
        "\n",
        "# ---- send counts_mat to R and run edgeR ----\n",
        "with localconverter(ro.default_converter + pandas2ri.converter):\n",
        "    ro.globalenv['counts_df'] = counts_mat  # auto py2rpy\n",
        "\n",
        "ro.r(\"\"\"\n",
        "suppressPackageStartupMessages(library(edgeR))\n",
        "dge <- DGEList(counts = as.matrix(counts_df))\n",
        "dge <- calcNormFactors(dge, method = \"TMM\")  # or your robust fallback block\n",
        "logCPM <- cpm(dge, log = TRUE, prior.count = 1)\n",
        "\"\"\")\n",
        "\n",
        "# ---- bring results back to Python (no double conversion) ----\n",
        "with localconverter(ro.default_converter + pandas2ri.converter):\n",
        "    logCPM_df  = ro.r('as.data.frame(logCPM)')          # -> pandas.DataFrame\n",
        "    logCPM_cols = list(ro.r('colnames(logCPM)'))        # -> Python list\n",
        "\n",
        "logCPM_df.index.name = 'gene'\n",
        "logCPM_df.columns = logCPM_cols\n",
        "\n",
        "# After you compute `logCPM_df` in R and bring it back to Python:\n",
        "\n",
        "# 1) mean logCPM per gene (index matches counts_mat.index)\n",
        "mean_logCPM_by_gene = logCPM_df.mean(axis=1)\n",
        "mean_logCPM_by_gene.index.name = 'gene_key'  # just a label\n",
        "\n",
        "# 2) Build the same key in `merged` that you used to index counts_mat\n",
        "#    (you used: gene_name_final filled by gene_id)\n",
        "merged['gene_key'] = merged['gene_name_final'].fillna(merged['gene_id']).astype(str)\n",
        "\n",
        "# 3) Map the per-gene values back to *every* row in `merged`\n",
        "merged['mean_logCPM'] = merged['gene_key'].map(mean_logCPM_by_gene)\n",
        "\n",
        "# (Optional) sanity check\n",
        "covered = merged['mean_logCPM'].notna().mean() * 100\n",
        "print(f\"[INFO] mean_logCPM mapped to merged: {covered:.1f}% rows filled\")\n",
        "\n",
        "# If you no longer need the helper key:\n",
        "# merged.drop(columns='gene_key', inplace=True)"
      ],
      "metadata": {
        "id": "KWvD1oYIGKFV"
      },
      "execution_count": null,
      "outputs": []
    },
    {
      "cell_type": "code",
      "source": [
        "# ---------- 5) Definir \"detectados\" ----------\n",
        "# Critério 1 (liberal): pelo menos 1 read em qualquer amostra\n",
        "merged['total_counts'] = merged[sample_cols].sum(axis=1)\n",
        "detected_any = merged['total_counts'] > 0\n",
        "\n",
        "# Critério 2 (stringente): >= MIN_COUNT reads em pelo menos MIN_SAMPLES amostras\n",
        "detected_stringent = (merged[sample_cols] >= MIN_COUNT).sum(axis=1) >= MIN_SAMPLES"
      ],
      "metadata": {
        "id": "Y237HvuGhZdu"
      },
      "execution_count": null,
      "outputs": []
    },
    {
      "cell_type": "code",
      "source": [
        "# ---------- 6) Métricas globais ----------\n",
        "# Resumos por critério — número de genes detectados por biotipo\n",
        "summary_any = summarize_detection(detected_any, 'any_read>0')\n",
        "summary_str = summarize_detection(detected_stringent, f'>={MIN_COUNT} reads in >={MIN_SAMPLES} samples')\n",
        "\n",
        "\n",
        "# Frações de reads por biotipo (global, somando amostras)\n",
        "reads_by_biotype = merged.groupby('gene_type')[sample_cols].sum()\n",
        "global_reads = reads_by_biotype.sum(axis=1).sort_values(ascending=False)\n",
        "global_total = global_reads.sum()\n",
        "\n",
        "# Fração total por biotipo (útil para checar o peso de lncRNA vs PC)\n",
        "global_fracs = (global_reads / global_total).rename('fraction')"
      ],
      "metadata": {
        "id": "N7U0c5rk_R5z"
      },
      "execution_count": null,
      "outputs": []
    },
    {
      "cell_type": "code",
      "source": [
        "# ---------- 7) CPM clássico (não-normalizado) para compatibilidade com v0 dos gráficos ----------\n",
        "# CPM médio por gene (média nas colunas de amostra)\n",
        "cpm_raw, lib_sizes = make_cpm(merged, sample_cols)\n",
        "merged['mean_cpm'] = cpm_raw.mean(axis=1)"
      ],
      "metadata": {
        "id": "BVMxWWQSeq0K"
      },
      "execution_count": null,
      "outputs": []
    },
    {
      "cell_type": "code",
      "source": [
        "# ---------- 8) Tabelas auxiliares para gráficos ----------\n",
        "\n",
        "# (a) Tabela longa para barplot: genes detectados por biotipo × critério\n",
        "det_tab = pd.DataFrame([summary_any, summary_str])\n",
        "det_long = det_tab.melt(id_vars=['label'],\n",
        "                        value_vars=['n_lnc_detected','n_pc_detected','n_other_detected'],\n",
        "                        var_name='class', value_name='n')\n",
        "det_long['class'] = det_long['class'].map({'n_lnc_detected':'lncRNA',\n",
        "                                           'n_pc_detected':'protein_coding',\n",
        "                                           'n_other_detected':'outros'})\n",
        "det_long['label'] = det_long['label'].map({'any_read>0':'Qualquer leitura (>0)',\n",
        "                                          f'>={MIN_COUNT} reads in >={MIN_SAMPLES} samples':\n",
        "                                          f'Robusto (≥{MIN_COUNT} reads em ≥{MIN_SAMPLES} amostras)'})\n",
        "\n",
        "\n",
        "# (b) Fração por amostra (stacked 100%)\n",
        "# Constrói tabela por amostra×biotipo e colapsa biotipos menos comuns em \"outros\"\n",
        "tidy = tidy_counts_by_biotype(merged, sample_cols, 'gene_type')\n",
        "\n",
        "main_biotypes = ['protein_coding','lncRNA']\n",
        "tidy_plot = tidy.copy()\n",
        "tidy_plot['biotype'] = np.where(tidy_plot['gene_type'].isin(main_biotypes),\n",
        "                                tidy_plot['gene_type'], 'outros')\n",
        "tidy_plot = (tidy_plot.groupby(['sample','biotype'], as_index=False)\n",
        "             [['counts','total_counts']].sum())\n",
        "tidy_plot['fraction'] = np.where(tidy_plot['total_counts']>0,\n",
        "                                 tidy_plot['counts']/tidy_plot['total_counts'], 0.0)\n",
        "\n",
        "# (c) Distribuição de expressão (log10 CPM) para lncRNA vs protein_coding\n",
        "expr_dist = (merged[merged['gene_type'].isin(['lncRNA','protein_coding'])]\n",
        "             [['gene_type','mean_logCPM']].copy())\n",
        "\n",
        "expr_dist['log10_mean_cpm_norm'] = expr_dist['mean_logCPM']  # já é logCPM\n"
      ],
      "metadata": {
        "id": "fCPgAyyui2Qm"
      },
      "execution_count": null,
      "outputs": []
    },
    {
      "cell_type": "code",
      "source": [
        "# ---------- 8) Gráficos ----------\n",
        "# Configuração estética global do seaborn/matplotlib\n",
        "sns.set_theme(style='whitegrid', context='talk')\n",
        "\n",
        "# A) Genes detectados por biotipo (dois critérios)\n",
        "plt.figure(figsize=(10,6))\n",
        "ax = sns.barplot(data=det_long, x='label', y='n', hue='class',\n",
        "                 palette={'protein_coding':'#4c78a8','lncRNA':'#f58518','outros':'#54a24b'})\n",
        "ax.set_xlabel('')\n",
        "ax.set_ylabel('Genes detectados')\n",
        "ax.set_title('Genes detectados por biotipo')\n",
        "ax.legend(title='Biotipo', frameon=False)\n",
        "\n",
        "plt.tight_layout()\n",
        "\n",
        "plt.savefig(f'{CHIPSEQ_LNCRNA_DIR}/A_genes_detectados_biotipo.png', dpi=300)\n",
        "plt.close()"
      ],
      "metadata": {
        "id": "AM0SqkCYi9SE"
      },
      "execution_count": null,
      "outputs": []
    },
    {
      "cell_type": "code",
      "source": [
        "# B) Fração de reads por amostra (stacked 100%)\n",
        "# montar barras empilhadas 100%\n",
        "samples = tidy_plot['sample'].unique()\n",
        "biotypes = ['protein_coding','lncRNA','outros']\n",
        "plot_mat = (tidy_plot.pivot(index='sample', columns='biotype', values='fraction')\n",
        "            .reindex(columns=biotypes).fillna(0.0))\n",
        "plot_mat = plot_mat.sort_index()\n",
        "\n",
        "colors = {'protein_coding':'#4c78a8','lncRNA':'#f58518','outros':'#54a24b'}\n",
        "plt.figure(figsize=(max(12, 0.5*len(samples)), 6))\n",
        "bottom = np.zeros(len(plot_mat))\n",
        "for bt in biotypes:\n",
        "    vals = plot_mat[bt].values\n",
        "    plt.bar(plot_mat.index, vals, bottom=bottom, color=colors[bt], label=bt)\n",
        "    bottom += vals\n",
        "plt.xticks(rotation=75, ha='right')\n",
        "plt.ylim(0,1)\n",
        "plt.ylabel('Fração de reads')\n",
        "plt.title('Fração de reads por biotipo em cada amostra')\n",
        "plt.legend(title='Biotipo', frameon=False)\n",
        "plt.tight_layout()\n",
        "\n",
        "plt.savefig(f'{CHIPSEQ_LNCRNA_DIR}/B_fracao_reads_por_amostra.png', dpi=300)\n",
        "plt.close()"
      ],
      "metadata": {
        "id": "KH_mjCfdjAN3"
      },
      "execution_count": null,
      "outputs": []
    },
    {
      "cell_type": "code",
      "source": [
        "# C) Distribuição de expressão (mean CPM) lncRNA vs protein_coding\n",
        "plt.figure(figsize=(8,6))\n",
        "\n",
        "ax = sns.violinplot(data=expr_dist, x='gene_type', y='log10_mean_cpm_norm',\n",
        "                    palette={'protein_coding':'#4c78a8','lncRNA':'#f58518'}, cut=0)\n",
        "\n",
        "# Overlay com pontos (amostra de até 2000 genes para não sobrecarregar o gráfico)\n",
        "sns.stripplot(data=expr_dist.sample(min(2000, expr_dist.shape[0]), random_state=42),\n",
        "              x='gene_type', y='log10_mean_cpm_norm', color='k', size=1, alpha=0.3, jitter=0.2)\n",
        "ax.set_xlabel('')\n",
        "ax.set_ylabel('mean logCPM (TMM)')\n",
        "ax.set_title('Distribuição de expressão (TMM → logCPM)')\n",
        "plt.tight_layout()\n",
        "\n",
        "plt.savefig(f'{CHIPSEQ_LNCRNA_DIR}/C_distribuicao_expressao_log10meanCPM.png', dpi=300)\n",
        "plt.close()"
      ],
      "metadata": {
        "id": "sRI7iZBhjMmZ"
      },
      "execution_count": null,
      "outputs": []
    },
    {
      "cell_type": "code",
      "source": [
        "# D) Top 20 lncRNAs (por expressão média CPM)\n",
        "plt.figure(figsize=(8,10))\n",
        "\n",
        "top_lnc = (merged[merged['gene_type']=='lncRNA']\n",
        "           .sort_values('mean_logCPM', ascending=False)\n",
        "           .loc[:, ['gene_id','gene_name_final','mean_logCPM']].head(20))\n",
        "\n",
        "top_lnc_plot = top_lnc.iloc[::-1]  # inverter para barras horizontais de baixo para cima\n",
        "labels = top_lnc_plot['gene_name_final'].fillna(top_lnc_plot['gene_id'])\n",
        "plt.barh(labels, top_lnc_plot['mean_logCPM'], color='#f58518')\n",
        "plt.xlabel('mean logCPM (TMM)')\n",
        "plt.title('Top 20 lncRNAs por expressão (TMM → logCPM)')\n",
        "plt.tight_layout()\n",
        "\n",
        "plt.savefig(f'{CHIPSEQ_LNCRNA_DIR}/D_top20_lncRNAs_meanCPM.png', dpi=300)\n",
        "plt.close()"
      ],
      "metadata": {
        "id": "pEuPkVY0jPGi"
      },
      "execution_count": null,
      "outputs": []
    },
    {
      "cell_type": "code",
      "source": [
        "# === Slide helper: numbers for \"Processamento: lncRNA\" ===\n",
        "# Uses variables already created above:\n",
        "# - gene_df, merged, sample_cols\n",
        "# - detected_any (≥1 read in any sample)\n",
        "# - detected_stringent (≥10 reads in ≥MIN_SAMPLES samples)\n",
        "# - global_fracs (fractions by gene_type across all reads)\n",
        "\n",
        "# 1) Universe (rows in count matrix)\n",
        "universe_n = int(gene_df.shape[0])\n",
        "\n",
        "# 2) Detected (≥1 read in any sample)\n",
        "det_total = int(detected_any.sum())\n",
        "det_lnc   = int(((merged['gene_type'] == 'lncRNA') & detected_any).sum())\n",
        "det_pc    = int(((merged['gene_type'] == 'protein_coding') & detected_any).sum())\n",
        "\n",
        "# 3) Robust detected (≥10 reads) — MIN_SAMPLES governs how many samples must have ≥10\n",
        "rob_total = int(detected_stringent.sum())\n",
        "rob_lnc   = int(((merged['gene_type'] == 'lncRNA') & detected_stringent).sum())\n",
        "rob_pc    = int(((merged['gene_type'] == 'protein_coding') & detected_stringent).sum())\n",
        "\n",
        "# 4) Global read distribution by biotype (protein_coding, lncRNA, others)\n",
        "biotype_series = merged['gene_type'].where(\n",
        "    merged['gene_type'].isin(['protein_coding','lncRNA']), other='outros'\n",
        ")\n",
        "reads_sum = merged.groupby(biotype_series)[sample_cols].sum().sum(axis=1)\n",
        "reads_pct = (reads_sum / reads_sum.sum() * 100).reindex(\n",
        "    ['protein_coding','lncRNA','outros']\n",
        ").fillna(0).round(1)\n",
        "\n",
        "# Save a tiny CSV for record/slide\n",
        "slide_tbl = pd.DataFrame({\n",
        "    'metric': ['universe_genes','detected_total','detected_lncRNA','detected_protein_coding',\n",
        "               'robust_total','robust_lncRNA','robust_protein_coding',\n",
        "               'reads_pct_protein_coding','reads_pct_lncRNA','reads_pct_outros'],\n",
        "    'value':  [universe_n, det_total, det_lnc, det_pc,\n",
        "               rob_total, rob_lnc, rob_pc,\n",
        "               reads_pct['protein_coding'], reads_pct['lncRNA'], reads_pct['outros']]\n",
        "})\n",
        "slide_tbl.to_csv(f'{LNCRNA_DIR}/lncrna_slide_numbers.csv', index=False)\n",
        "\n",
        "# Pretty print (copy/paste into the slide notes)\n",
        "print(\"\\n===== Texto sugerido para o slide =====\\n\")\n",
        "print(f\"Universo: {universe_n:,} genes na matriz de contagem (GSE261989, BT-549).\")\n",
        "print(f\"Detectados (≥1 read em qualquer amostra): {det_total:,} genes\")\n",
        "print(f\"  • lncRNA: {det_lnc:,}\")\n",
        "print(f\"  • protein_coding: {det_pc:,}\")\n",
        "print(f\"Detectados robustos (≥10 reads): {rob_total:,} genes \")\n",
        "print(f\"  • lncRNA: {rob_lnc:,}\")\n",
        "print(f\"  • protein_coding: {rob_pc:,}\")\n",
        "print(\"Distribuição global de reads por biotipo (soma em todas as amostras):\")\n",
        "print(f\"  • protein_coding: {reads_pct['protein_coding']:.1f}%\")\n",
        "print(f\"  • lncRNA: {reads_pct['lncRNA']:.1f}%\")\n",
        "print(f\"  • outros: {reads_pct['outros']:.1f}%\")"
      ],
      "metadata": {
        "id": "WdB9v0R3XtwJ"
      },
      "execution_count": null,
      "outputs": []
    },
    {
      "cell_type": "markdown",
      "source": [
        "#### Diagrama Venn"
      ],
      "metadata": {
        "id": "hdhR2O2qiFDS"
      }
    },
    {
      "cell_type": "code",
      "source": [
        "# ---- build robust ChIP set correctly (use gene_id fallback, avoid collapsing) ----\n",
        "rob_chip = merged.loc[detected_stringent, ['gene_id', 'gene_name_final']].copy()\n",
        "rob_chip['gene_id_base'] = rob_chip['gene_id'].astype(str).str.split('.').str[0]\n",
        "# key = gene symbol if present, else Ensembl ID (base)\n",
        "rob_chip['gene_key'] = np.where(\n",
        "    rob_chip['gene_name_final'].notna() & (rob_chip['gene_name_final'].astype(str).str.strip() != ''),\n",
        "    rob_chip['gene_name_final'].astype(str),\n",
        "    rob_chip['gene_id_base'].astype(str)\n",
        ")\n",
        "rob_chip['gene_key_up'] = rob_chip['gene_key'].str.upper()\n",
        "\n",
        "# Diagnostics\n",
        "n_rows = rob_chip.shape[0]                                 # total robust rows (should be 131)\n",
        "n_na_symbol = int(rob_chip['gene_name_final'].isna().sum())\n",
        "n_unique_by_id = rob_chip['gene_id_base'].nunique()\n",
        "n_unique_by_key = rob_chip['gene_key_up'].nunique()\n",
        "dup_names = (rob_chip.groupby('gene_key_up').size().sort_values(ascending=False))\n",
        "dup_names = dup_names[dup_names > 1]\n",
        "\n",
        "print(f\"[ChIP robust] rows={n_rows}, unique_ids={n_unique_by_id}, \"\n",
        "      f\"unique_keys={n_unique_by_key}, na_symbols={n_na_symbol}\")\n",
        "if not dup_names.empty:\n",
        "    print(\"[ChIP robust] note: multiple Ensembl IDs share the same symbol; top collisions:\")\n",
        "    print(dup_names.head(10))\n",
        "\n",
        "# FINAL robust set for Venn (size should now match 131 if that’s your robust count)\n",
        "chip_robust_set = set(rob_chip['gene_key_up'])\n",
        "\n",
        "# ---- (re)make the Venn with this corrected set ----\n",
        "from matplotlib import pyplot as plt\n",
        "try:\n",
        "    from matplotlib_venn import venn2, venn2_unweighted\n",
        "except ImportError:\n",
        "    import sys, subprocess\n",
        "    subprocess.check_call([sys.executable, \"-m\", \"pip\", \"install\", \"matplotlib-venn\"])\n",
        "    from matplotlib_venn import venn2, venn2_unweighted\n",
        "\n",
        "A = chip_robust_set                  # ChIP robust (should be 131)\n",
        "B = set(robust_lnc_set)              # RNA-seq lncRNA robust (uppercase)\n",
        "\n",
        "a_only = len(A - B)\n",
        "b_only = len(B - A)\n",
        "ab     = len(A & B)\n",
        "na, nb = len(A), len(B)\n",
        "\n",
        "imbalance = min(na, nb) / max(na, nb) if max(na, nb) else 1.0\n",
        "use_unweighted = (imbalance < 0.4)\n",
        "\n",
        "plt.figure(figsize=(8,6))\n",
        "v = (venn2_unweighted if use_unweighted else venn2)(\n",
        "    subsets=(a_only, b_only, ab),\n",
        "    set_labels=(f\"ChIP-seq robust (n={na:,})\", f\"RNA-seq lncRNA robust (n={nb:,})\")\n",
        ")\n",
        "\n",
        "for pid in ('10','01','11'):\n",
        "    if v.get_patch_by_id(pid):\n",
        "        v.get_patch_by_id(pid).set_alpha(0.65)\n",
        "        v.get_patch_by_id(pid).set_edgecolor('#333'); v.get_patch_by_id(pid).set_linewidth(1.2)\n",
        "if v.get_patch_by_id('10'): v.get_patch_by_id('10').set_color('#4c78a8')\n",
        "if v.get_patch_by_id('01'): v.get_patch_by_id('01').set_color('#f58518')\n",
        "if v.get_patch_by_id('11'): v.get_patch_by_id('11').set_color('#9ecae1')\n",
        "\n",
        "def _fmt(n): return f\"{n:,}\"\n",
        "def _pct(n, d): return f\"{(n/d*100):.1f}%\" if d else \"0.0%\"\n",
        "\n",
        "if v.get_label_by_id('10'): v.get_label_by_id('10').set_text(f\"{_fmt(a_only)}\\n({_pct(a_only, na)})\")\n",
        "if v.get_label_by_id('01'): v.get_label_by_id('01').set_text(f\"{_fmt(b_only)}\\n({_pct(b_only, nb)})\")\n",
        "if v.get_label_by_id('11'): v.get_label_by_id('11').set_text(f\"{_fmt(ab)}\")\n",
        "\n",
        "for lid in ('10','01','11'):\n",
        "    lbl = v.get_label_by_id(lid)\n",
        "    if lbl: lbl.set_fontsize(12)\n",
        "for s in v.set_labels:\n",
        "    if s: s.set_fontsize(12)\n",
        "\n",
        "plt.title(f\"Sobreposição: ChIP-seq (robusto) × RNA-seq lncRNA (robusto)\", fontsize=13, pad=12)\n",
        "plt.tight_layout()\n",
        "venn_dir = f\"{FIG_DIR}/venn\"; os.makedirs(venn_dir, exist_ok=True)\n",
        "plt.savefig(f\"{venn_dir}/venn_chip_vs_rnaseq_lnc_robust_readable.png\", dpi=300); plt.close()\n",
        "\n",
        "# Save the overlap table again (now consistent)\n",
        "pd.DataFrame(sorted(A & B), columns=['gene']).to_csv(f\"{venn_dir}/overlap_genes.csv\", index=False)\n"
      ],
      "metadata": {
        "id": "IQkVTHZ3hkDL"
      },
      "execution_count": null,
      "outputs": []
    },
    {
      "cell_type": "markdown",
      "source": [
        "### Processamento: WGCNA"
      ],
      "metadata": {
        "id": "58nPQAhRPGP8"
      }
    },
    {
      "cell_type": "markdown",
      "source": [
        "#### O que esta seção faz\n",
        "--------------------\n",
        "1) Lê a anotação (GTF) e constrói um mapa gene_name→biotype.\n",
        "2) Lê nodes/edges (formato Cytoscape) do WGCNA e anota cada nó com biotipo e módulo.\n",
        "3) Estima um *cutoff* automático de peso (percentil 95) para manter ~5% das arestas\n",
        "(apenas para depuração), **e aplica um cutoff calculado (WEIGHT_CUTOFF_AUTO)** na filtragem efetiva.\n",
        "4) Aplica um filtro biológico adicional: se houver lncRNAs em uma aresta, eles devem\n",
        "pertencer ao conjunto `robust_lnc_set` (derivado da parte de lncRNA acima; isto\n",
        "reduz falsos positivos de lncRNAs com baixa/instável detecção).\n",
        "5) Exporta sub-redes compatíveis com Cytoscape (edges/nodes filtrados) e estatísticas\n",
        "de redução e estrutura (para slides e QC).\n",
        "6) Gera *exports por módulo* (nodes/edges) coloridos, marcando hubs e genes-alvo."
      ],
      "metadata": {
        "id": "gF6le8eUo5Ye"
      }
    },
    {
      "cell_type": "code",
      "source": [
        "# ---------- 1) Ler GTF e fazer mapa gene_name -> biotipo ----------\n",
        "# Usa a função utilitária que prioriza lncRNA > protein_coding quando houver ambiguidade\n",
        "gtf = load_gtf_gene_biotype(GTF_FILE)\n",
        "name2type = dict(zip(gtf['gene_name'].str.upper(), gtf['gene_type']))"
      ],
      "metadata": {
        "id": "9kYFw6CMPOez"
      },
      "execution_count": null,
      "outputs": []
    },
    {
      "cell_type": "code",
      "source": [
        "# ---------- 2) Ler nodes/edges (formato Cytoscape) ----------\n",
        "nodes = pd.read_csv(NODE_FILE, sep='\\t')\n",
        "if 'nodeAttr[nodesPresent, ]' in nodes.columns:\n",
        "    nodes = nodes.rename(columns={'nodeAttr[nodesPresent, ]':'module'})\n",
        "assert {'nodeName','module'}.issubset(nodes.columns), \"Arquivo de nodes precisa ter colunas 'nodeName' e 'module'.\"\n",
        "\n",
        "# Normalizar nomes e adicionar biotipos\n",
        "nodes['gene_name']    = nodes['nodeName'].astype(str)\n",
        "nodes['gene_name_up'] = nodes['gene_name'].str.upper()\n",
        "nodes['biotype']      = nodes['gene_name_up'].map(name2type).fillna('other')\n",
        "\n",
        "node2bio    = dict(zip(nodes['nodeName'], nodes['biotype']))\n",
        "node2module = dict(zip(nodes['nodeName'], nodes['module']))"
      ],
      "metadata": {
        "id": "C3Kg8EYXPPri"
      },
      "execution_count": null,
      "outputs": []
    },
    {
      "cell_type": "code",
      "source": [
        "# ---------- 3) Encontrar automaticamente o corte que remove 95% das arestas ----------\n",
        "# **Objetivo:** saber qual peso mantém ~5% das arestas. Isso é útil para calibrar o\n",
        "# cutoff fixo. A leitura é em *chunks* para economizar memória.\n",
        "\n",
        "# Histograma de alta resolução para calcular o percentil 95 de 'weight'\n",
        "hist_bins   = np.linspace(0, 1, 400+1)      # 400 bins p/ boa resolução\n",
        "hist_counts = np.zeros(len(hist_bins)-1, dtype=np.int64)\n",
        "total_edges = 0\n",
        "\n",
        "# Lendo em chunks de 2MI\n",
        "for ch in pd.read_csv(EDGE_FILE, sep='\\t', usecols=['fromNode','toNode','weight'], chunksize=2_000_000):\n",
        "    ch = ch.dropna()\n",
        "    w  = ch['weight'].astype(float).values\n",
        "    h,_ = np.histogram(w, bins=hist_bins)\n",
        "    hist_counts += h\n",
        "    total_edges += len(ch)\n",
        "    del ch\n",
        "    gc.collect()\n",
        "\n",
        "# Cálculo do percentil 95 a partir da CDF aproximada do histograma\n",
        "cum = hist_counts.cumsum() / max(hist_counts.sum(), 1)\n",
        "idx = np.searchsorted(cum, PERCENTILE_THRESHOLD)\n",
        "WEIGHT_CUTOFF_AUTO = float(hist_bins[min(idx, len(hist_bins)-1)])\n",
        "\n",
        "print(f\"[INFO] 95th percentile cutoff = {WEIGHT_CUTOFF_AUTO:.6f}  (mantendo ~5% das arestas)\")"
      ],
      "metadata": {
        "id": "j0jyKNFJPRA9"
      },
      "execution_count": null,
      "outputs": []
    },
    {
      "cell_type": "code",
      "source": [
        "# ---------- 4) Filtrar arestas (segunda passada) e salvar o que restou ----------\n",
        "# Saída: arquivo TSV com arestas filtradas para inspeção no Cytoscape.\n",
        "filtered_edges_path = f'{WGCNA_DIR}/CytoscapeInput-edges.filtered.top5pct.robust.tsv'\n",
        "with open(filtered_edges_path, 'w') as f_out:\n",
        "    f_out.write('fromNode\\ttoNode\\tweight\\n')\n",
        "\n",
        "# Função auxiliar: garante que lncRNAs envolvidos sejam \"robustos\"\n",
        "def _keep_edge(u, v):\n",
        "    bu, bv = node2bio.get(u, 'other'), node2bio.get(v, 'other')\n",
        "    if bu == 'lncRNA' and u.upper() not in robust_lnc_set:  # robust_lnc_set vem da parte lncRNA\n",
        "        return False\n",
        "    if bv == 'lncRNA' and v.upper() not in robust_lnc_set:\n",
        "        return False\n",
        "    return True\n",
        "\n",
        "nodes_seen = set() # nós que aparecem em pelo menos uma aresta mantida\n",
        "E_kept = 0\n",
        "\n",
        "for ch in pd.read_csv(EDGE_FILE, sep='\\t', usecols=['fromNode','toNode','weight'], chunksize=2_000_000):\n",
        "    # 4a) Filtro por peso\n",
        "    ch = ch[ch['weight'].astype(float) >= WEIGHT_CUTOFF_AUTO].copy()\n",
        "    if ch.empty:\n",
        "        continue\n",
        "\n",
        "    # 4b) Filtro biológico — remove arestas que incluem lncRNA não-robusto\n",
        "    mask = [ _keep_edge(u, v) for u, v in ch[['fromNode','toNode']].itertuples(index=False, name=None) ]\n",
        "    ch = ch.loc[mask]\n",
        "    if ch.empty:\n",
        "        continue\n",
        "\n",
        "    # 4c) Export incremental (modo append) para evitar manter tudo em RAM\n",
        "    ch[['fromNode','toNode','weight']].to_csv(filtered_edges_path, sep='\\t', index=False, header=False, mode='a')\n",
        "\n",
        "    # 4d) Atualiza conjunto de nós presentes\n",
        "    nodes_seen.update(ch['fromNode'].astype(str))\n",
        "    nodes_seen.update(ch['toNode'].astype(str))\n",
        "    E_kept += len(ch)\n",
        "    del ch\n",
        "\n",
        "print(f\"[INFO] Arestas mantidas após ambos filtros: {E_kept:,} ({E_kept/total_edges*100:.2f}%)\")"
      ],
      "metadata": {
        "id": "Vkx4vDZlPTE2"
      },
      "execution_count": null,
      "outputs": []
    },
    {
      "cell_type": "code",
      "source": [
        "# ---------- 5) Salvar nodes filtrados (apenas os presentes nas edges remanescentes) ----------\n",
        "# Gera um nodes.tsv reduzido (facilita carregar no Cytoscape apenas o subgrafo relevante).\n",
        "\n",
        "nodes_filt = nodes[nodes['nodeName'].isin(nodes_seen)].copy()\n",
        "nodes_filt['is_robust_lnc'] = (nodes_filt['biotype'].eq('lncRNA') &\n",
        "                               nodes_filt['gene_name_up'].isin(robust_lnc_set))\n",
        "\n",
        "# Removemos lncRNAs não-robustos que, por acaso, tenham aparecido (sanity check)\n",
        "nodes_filt = nodes_filt[(nodes_filt['biotype']!='lncRNA') | (nodes_filt['is_robust_lnc'])].copy()\n",
        "\n",
        "nodes_filt_path = f'{WGCNA_DIR}/CytoscapeInput-nodes.filtered.top5pct.robust.tsv'\n",
        "nodes_filt[['nodeName','gene_name','module','biotype','is_robust_lnc']].to_csv(nodes_filt_path, sep='\\t', index=False)"
      ],
      "metadata": {
        "id": "6GyPpy7kPV04"
      },
      "execution_count": null,
      "outputs": []
    },
    {
      "cell_type": "code",
      "source": [
        "# ------------------------\n",
        "# 6) Distribuição das arestas (Original vs Filtrado) p/ o slide\n",
        "# ------------------------\n",
        "# Gera uma tabela com contagens de arestas e número de nós por biotipo,\n",
        "# antes e depois do filtro. Útil para comunicar a magnitude da redução\n",
        "\n",
        "def _edge_counts(edge_path, filtered=False):\n",
        "    stats = dict(E_total=0, E_lnc=0, E_gene=0, lnc_nodes=set(), pc_nodes=set())\n",
        "    node_bio_map = node2bio if not filtered else dict(zip(nodes_filt['nodeName'], nodes_filt['biotype']))\n",
        "    for ch in pd.read_csv(edge_path, sep='\\t', chunksize=2_000_000):\n",
        "        s_type = ch['fromNode'].map(node_bio_map).fillna('other')\n",
        "        t_type = ch['toNode'].map(node_bio_map).fillna('other')\n",
        "        stats['E_total'] += len(ch)\n",
        "        stats['E_lnc']   += int((s_type.eq('lncRNA') | t_type.eq('lncRNA')).sum())\n",
        "        stats['E_gene']  += int((s_type.eq('protein_coding') & t_type.eq('protein_coding')).sum())\n",
        "        stats['lnc_nodes'].update(ch.loc[s_type.eq('lncRNA'),'fromNode'])\n",
        "        stats['lnc_nodes'].update(ch.loc[t_type.eq('lncRNA'),'toNode'])\n",
        "        stats['pc_nodes'].update(ch.loc[s_type.eq('protein_coding'),'fromNode'])\n",
        "        stats['pc_nodes'].update(ch.loc[t_type.eq('protein_coding'),'toNode'])\n",
        "    return stats\n",
        "\n",
        "# criar snapshot de edges originais (3 colunas) só para sumarizar\n",
        "_tmp_all_edges = f'{WGCNA_DIR}/__all_edges_tmp.tsv'\n",
        "if not os.path.exists(_tmp_all_edges):\n",
        "    with open(_tmp_all_edges, 'w') as f: f.write('fromNode\\ttoNode\\tweight\\n')\n",
        "    for ch in pd.read_csv(EDGE_FILE, sep='\\t', usecols=['fromNode','toNode','weight'], chunksize=2_000_000):\n",
        "        ch.to_csv(_tmp_all_edges, sep='\\t', index=False, header=False, mode='a')\n",
        "\n",
        "s_orig = _edge_counts(_tmp_all_edges, filtered=False)\n",
        "s_filt = _edge_counts(filtered_edges_path, filtered=True)\n",
        "\n",
        "edges_tbl = pd.DataFrame([\n",
        "    ('Total de arestas', s_orig['E_total'], s_filt['E_total']),\n",
        "    ('Nós-lncRNA',       len(s_orig['lnc_nodes']),  len(s_filt['lnc_nodes'])),\n",
        "    ('Interações lncRNA',s_orig['E_lnc'],          s_filt['E_lnc']),\n",
        "    ('Nós-Genes',        len(s_orig['pc_nodes']),  len(s_filt['pc_nodes'])),\n",
        "    ('Interações Genes', s_orig['E_gene'],         s_filt['E_gene']),\n",
        "], columns=['Métrica','Original','Filtrado'])\n",
        "\n",
        "edges_tbl['Redução'] = (1 - (edges_tbl['Filtrado']/edges_tbl['Original'])).map(lambda x: f'{x*100:.0f}%')\n",
        "edges_tbl.to_csv(f'{WGCNA_DIR}/edges_summary.top5pct_robust.csv', index=False)"
      ],
      "metadata": {
        "id": "7cFGFETQRJW7"
      },
      "execution_count": null,
      "outputs": []
    },
    {
      "cell_type": "code",
      "source": [
        "# ------------------------\n",
        "# 7) Estrutura da rede (filtrado) p/ o slide\n",
        "# ------------------------\n",
        "# Calculamos grau por nó, densidade, número de componentes e tamanho do maior componente\n",
        "# usando uma DSU (Union-Find) simples, sem dependências externas.\n",
        "\n",
        "deg = {}\n",
        "parent = {}\n",
        "def _find(x):\n",
        "    parent.setdefault(x, x)\n",
        "    while parent[x] != x:\n",
        "        parent[x] = parent[parent[x]]\n",
        "        x = parent[x]\n",
        "    return x\n",
        "def _union(a,b):\n",
        "    ra, rb = _find(a), _find(b)\n",
        "    if ra != rb: parent[rb] = ra\n",
        "\n",
        "E = 0\n",
        "for ch in pd.read_csv(filtered_edges_path, sep='\\t', chunksize=2_000_000):\n",
        "    E += len(ch)\n",
        "    for u,v in ch[['fromNode','toNode']].itertuples(index=False):\n",
        "        deg[u] = deg.get(u,0)+1; deg[v] = deg.get(v,0)+1\n",
        "        _union(u,v)\n",
        "\n",
        "N = len(nodes_filt)\n",
        "avg_degree = (2*E)/N if N>0 else np.nan\n",
        "density    = (2*E)/(N*(N-1)) if N>1 else np.nan\n",
        "comp_size  = {}\n",
        "\n",
        "for n in nodes_filt['nodeName']:\n",
        "    r = _find(n); comp_size[r] = comp_size.get(r,0)+1\n",
        "\n",
        "n_components    = len(comp_size)\n",
        "giant_component = max(comp_size.values()) if comp_size else 0\n",
        "\n",
        "net_metrics = pd.DataFrame({\n",
        "    'Métrica': ['Nós (N)','Arestas (E)','Grau médio (2E/N)','Densidade (2E/N(N-1))','# Componentes','Maior componente (nós)'],\n",
        "    'Valor':   [N, E, avg_degree, density, n_components, giant_component]\n",
        "})\n",
        "\n",
        "net_metrics.to_csv(f'{WGCNA_DIR}/network_structure_metrics.top5pct_robust.csv', index=False)"
      ],
      "metadata": {
        "id": "llo3IJwZSAYx"
      },
      "execution_count": null,
      "outputs": []
    },
    {
      "cell_type": "code",
      "source": [
        "# ------------------------\n",
        "# 8) Módulos — barras coloridas pela cor do módulo\n",
        "# ------------------------\n",
        "\n",
        "# Gera uma figura (PNG) com o tamanho de cada módulo e a porcentagem de lncRNA.\n",
        "WGCNA_COLOR_HEX = {\n",
        "    'black':'#000000','blue':'#1f77b4','brown':'#8B4513','cyan':'#00FFFF','darkgreen':'#006400',\n",
        "    'darkgrey':'#555555','darkmagenta':'#8B008B','darkolivegreen':'#556B2F','darkorange':'#FF8C00',\n",
        "    'darkred':'#8B0000','darkturquoise':'#00CED1','green':'#2ca02c','greenyellow':'#ADFF2F',\n",
        "    'grey60':'#999999','ivory':'#FFFFF0','lightcyan':'#E0FFFF','lightcyan1':'#E0FFFF',\n",
        "    'lightgreen':'#90EE90','lightsteelblue1':'#CAE1FF','lightyellow':'#FFFFE0','magenta':'#FF00FF',\n",
        "    'mediumpurple3':'#8968CD','midnightblue':'#191970','orange':'#FFA500','orangered4':'#8B2500',\n",
        "    'paleturquoise':'#AFEEEE','pink':'#FFC0CB','plum1':'#FFBBFF','purple':'#800080','royalblue':'#4169E1',\n",
        "    'saddlebrown':'#8B4513','salmon':'#FA8072','sienna3':'#CD6839','skyblue':'#87CEEB','skyblue3':'#6CA6CD',\n",
        "    'steelblue':'#4682B4','tan':'#D2B48C','violet':'#EE82EE','white':'#FFFFFF','yellowgreen':'#9ACD32'\n",
        "}\n",
        "\n",
        "nodes_mod = nodes_filt.copy()\n",
        "sizes     = nodes_mod.groupby('module').size().rename('n')\n",
        "lnc_sizes = nodes_mod[nodes_mod['biotype']=='lncRNA'].groupby('module').size().rename('lnc')\n",
        "mod_stats = pd.concat([sizes, lnc_sizes], axis=1).fillna(0).reset_index()\n",
        "mod_stats['lnc_pct'] = (mod_stats['lnc']/mod_stats['n']*100)\n",
        "mod_stats = mod_stats.sort_values('n', ascending=False)\n",
        "mod_stats.to_csv(f'{WGCNA_DIR}/modules_sizes_lnc_top5pct_robust.csv', index=False)\n",
        "\n",
        "plt.figure(figsize=(max(10,0.5*len(mod_stats)),6))\n",
        "bar_colors = [WGCNA_COLOR_HEX.get(m, '#6baed6') for m in mod_stats['module']]\n",
        "ax = sns.barplot(data=mod_stats, x='module', y='n', palette=bar_colors)\n",
        "for i,(m,n,p) in enumerate(zip(mod_stats['module'], mod_stats['n'], mod_stats['lnc_pct'])):\n",
        "    ax.text(i, n+max(mod_stats['n'])*0.01, f\"{p:.1f}% lnc\", ha='center', va='bottom', fontsize=10)\n",
        "plt.xticks(rotation=75, ha='right')\n",
        "plt.ylabel('Nós no módulo')\n",
        "plt.xlabel('Módulo (cor)')\n",
        "plt.title('WGCNA: Módulos — tamanho e % lncRNA (top 5% + lnc robusto)')\n",
        "plt.tight_layout()\n",
        "\n",
        "plt.savefig(f'{WGCNA_DIR}/modules_sizes_lnc_colored.png', dpi=300)\n",
        "plt.close()"
      ],
      "metadata": {
        "id": "rLGnNzRjSCrk"
      },
      "execution_count": null,
      "outputs": []
    },
    {
      "cell_type": "code",
      "source": [
        "# ------------------------\n",
        "# 8) Hubs (usar arquivo fornecido, sem API) e marcar nos exports\n",
        "# ------------------------\n",
        "# Ler hubs.csv e limpar cores com quebras/aspas\n",
        "hubs = pd.read_csv(HUBS_CSV, sep=None, engine='python')\n",
        "hubs.columns = [c.strip().lower() for c in hubs.columns]\n",
        "\n",
        "# normalizar colunas esperadas: module, gene, function\n",
        "if 'module' not in hubs.columns or 'gene' not in hubs.columns:\n",
        "    raise ValueError(f\"hubs.csv deve conter colunas 'module' e 'gene'. Encontrado: {list(hubs.columns)}\")\n",
        "if 'function' not in hubs.columns:\n",
        "    hubs['function'] = ''\n",
        "\n",
        "hubs['module'] = hubs['module'].astype(str).str.strip().str.replace(r'[\"\\']','', regex=True).str.replace(r'\\s+','', regex=True)\n",
        "hubs['gene']   = hubs['gene'].astype(str).str.strip()\n",
        "hubs['gene_up'] = hubs['gene'].str.upper()\n",
        "hubs_map = dict(zip(zip(hubs['module'], hubs['gene_up']), hubs['function']))"
      ],
      "metadata": {
        "id": "fDa6ziYSSFci"
      },
      "execution_count": null,
      "outputs": []
    },
    {
      "cell_type": "code",
      "source": [
        "# ------------------------\n",
        "# 9) Exports por módulo p/ Cytoscape (um par nodes/edges por módulo), destacando hubs e genes-alvo\n",
        "# ------------------------\n",
        "TARGET_GENES = {'GATA6','GATA6-AS1'}  # ajuste se quisermos destacar outros\n",
        "mods = sorted(nodes_mod['module'].unique())\n",
        "mod_nodesets = {m: set(nodes_mod.loc[nodes_mod['module']==m, 'nodeName']) for m in mods}\n",
        "\n",
        "# Cabeçalhos — criamos arquivos destinos vazios (modo append virá depois)\n",
        "for m in mods:\n",
        "    with open(f'{MODULE_EXPORT_DIR}/{m}_nodes.tsv','w') as fn:\n",
        "        fn.write('nodeName\\tgene_name\\tmodule\\tbiotype\\tis_robust_lnc\\tis_hub\\thub_function\\thighlight\\n')\n",
        "    with open(f'{MODULE_EXPORT_DIR}/{m}_edges.tsv','w') as fe:\n",
        "        fe.write('fromNode\\ttoNode\\tweight\\n')\n",
        "\n",
        "# (9a) Nodes por módulo com marcações de hub/lnc robusto/targets\n",
        "for m in mods:\n",
        "    sub = nodes_mod[nodes_mod['module']==m].copy()\n",
        "    sub['is_hub'] = sub['gene_name'].str.upper().apply(lambda g: 1 if (m, g) in hubs_map else 0)\n",
        "    sub['hub_function'] = sub.apply(lambda r: hubs_map.get((m, r['gene_name'].upper()), ''), axis=1)\n",
        "\n",
        "    tgt_mask = sub['gene_name'].str.upper().isin(TARGET_GENES)\n",
        "    lnc_mask = sub['biotype'].eq('lncRNA') & sub['is_robust_lnc'].fillna(True).astype(bool)\n",
        "    sub['highlight'] = np.select([lnc_mask, tgt_mask], [2, 1], default=0).astype(int)\n",
        "    sub[['nodeName','gene_name','module','biotype','is_robust_lnc','is_hub','hub_function','highlight']].to_csv(\n",
        "        f'{MODULE_EXPORT_DIR}/{m}_nodes.tsv', sep='\\t', index=False, mode='a', header=False\n",
        "    )\n",
        "\n",
        "# (9b) Edges intramodulares por módulo — iteramos os *chunks* das arestas filtradas\n",
        "for ch in pd.read_csv(filtered_edges_path, sep='\\t', chunksize=2_000_000):\n",
        "    for m in mods:\n",
        "        s = mod_nodesets[m]\n",
        "        chm = ch[ch['fromNode'].isin(s) & ch['toNode'].isin(s)]\n",
        "        if not chm.empty:\n",
        "            chm.to_csv(f'{MODULE_EXPORT_DIR}/{m}_edges.tsv', sep='\\t', index=False, mode='a', header=False)\n",
        "\n",
        "# (9c) Verificação simples: hubs do CSV estão presentes no subgrafo exportado?\n",
        "hubs_present = []\n",
        "for m in mods:\n",
        "    in_mod = nodes_mod.loc[nodes_mod['module']==m, 'gene_name'].str.upper()\n",
        "    hl = hubs[hubs['module']==m]\n",
        "    if not hl.empty:\n",
        "        gene_up = hl['gene_up'].iloc[0]\n",
        "        hubs_present.append({\n",
        "            'module': m,\n",
        "            'hub_gene': hl['gene'].iloc[0],\n",
        "            'present_in_network': bool((in_mod==gene_up).any()),\n",
        "            'function': hl['function'].iloc[0]\n",
        "        })\n",
        "pd.DataFrame(hubs_present).to_csv(f'{WGCNA_DIR}/hubs_in_network_check.csv', index=False)"
      ],
      "metadata": {
        "id": "uRQW0PnSR5fB"
      },
      "execution_count": null,
      "outputs": []
    },
    {
      "cell_type": "code",
      "source": [
        "print(f\"[✓] Exports por módulo salvos em: {MODULE_EXPORT_DIR}\")\n",
        "print(f\"[✓] Tabelas para slides: edges_summary.top5pct_robust.csv, network_structure_metrics.top5pct_robust.csv, modules_sizes_lnc_colored.png\")"
      ],
      "metadata": {
        "id": "QHA4osX4SPoT"
      },
      "execution_count": null,
      "outputs": []
    },
    {
      "cell_type": "code",
      "source": [
        "nodes = pd.read_csv(f'{MODULE_EXPORT_DIR}/brown_nodes.tsv', sep=\"\\t\")\n",
        "edges = pd.read_csv(f'{MODULE_EXPORT_DIR}/brown_edges.tsv', sep=\"\\t\")\n",
        "\n",
        "# FIltering lncRNA or GATA6\n",
        "nodes_lncRNA = nodes[(nodes['biotype'] == 'lncRNA') | (nodes['nodeName'].isin(['GATA6', 'GATA6-AS1']))]\n",
        "\n",
        "# List of notes\n",
        "lst = nodes_lncRNA['nodeName'].tolist()\n",
        "\n",
        "# Filtering only the nodes above\n",
        "edges = edges[(edges['fromNode'].isin(lst)) | (edges['toNode'].isin(lst))]\n",
        "\n",
        "# List of nodes on Edges after filtering\n",
        "lst1 = edges['fromNode'].tolist()\n",
        "lst2 = edges['toNode'].tolist()\n",
        "\n",
        "# Filter nodes file with those edges\n",
        "nodes = nodes[(nodes['nodeName'].isin(lst1)) | (nodes['nodeName'].isin(lst2))]\n",
        "\n",
        "# Save csv\n",
        "nodes.to_csv(f'{MODULE_EXPORT_DIR}/brown_nodes_filtered.tsv', sep='\\t', index=False)\n",
        "edges.to_csv(f'{MODULE_EXPORT_DIR}/brown_edges_filtered.tsv', sep='\\t', index=False)"
      ],
      "metadata": {
        "id": "9jLzuGS-uQjm"
      },
      "execution_count": null,
      "outputs": []
    },
    {
      "cell_type": "markdown",
      "source": [
        "### Processamento: DEG"
      ],
      "metadata": {
        "id": "E8JK9G19JC6N"
      }
    },
    {
      "cell_type": "code",
      "source": [
        "!apt-get update\n",
        "!apt-get install -y openjdk-17-jdk\n",
        "!export JAVA_HOME=/usr/lib/jvm/java-17-openjdk-amd64\n",
        "!export PATH=$PATH:$JAVA_HOME/bin\n",
        "!wget -qO- https://get.nextflow.io | bash\n",
        "!chmod +x nextflow\n",
        "!mv nextflow /usr/local/bin/"
      ],
      "metadata": {
        "id": "aXJb9awaQeby"
      },
      "execution_count": null,
      "outputs": []
    },
    {
      "cell_type": "code",
      "source": [
        "!nextflow run hello"
      ],
      "metadata": {
        "id": "IgWgW1KdlGcr"
      },
      "execution_count": null,
      "outputs": []
    },
    {
      "cell_type": "code",
      "source": [
        "# ============================\n",
        "# PARÂMETROS E CAMINHOS DO PROJETO\n",
        "# ============================\n",
        "SOURCE_FOLDER = '/content/drive/MyDrive/Saude_lncRNA'\n",
        "COUNTS_TSV   = f'{SOURCE_FOLDER}/data/processed/salmon.merged.gene_counts.tsv'\n",
        "CHIPSEQ_COUNTS_TSV   = f'{SOURCE_FOLDER}/data/processed/chip_seq_salmon.merged.transcript_counts.tsv'\n",
        "GTF_FILE     = f'{SOURCE_FOLDER}/data/processed/Anotacao_com_lncRNA.gtf'\n",
        "NODE_FILE  = f'{SOURCE_FOLDER}/data/processed/CytoscapeInput-nodes.txt'\n",
        "EDGE_FILE  = f'{SOURCE_FOLDER}/data/processed/CytoscapeInput-edges.txt'\n",
        "\n",
        "FIG_DIR      = f'{SOURCE_FOLDER}/figures'\n",
        "LNCRNA_DIR         = f'{FIG_DIR}/lncrna'\n",
        "CHIPSEQ_LNCRNA_DIR         = f'{FIG_DIR}/lncrna/chip-seq'\n",
        "WGCNA_DIR         = f'{FIG_DIR}/wgcna'\n",
        "\n",
        "# Diretórios de entrada/saída específicos do WGCNA\n",
        "WGCNA_INDIR   = os.path.dirname(NODE_FILE)\n",
        "WGCNA_OUTDIR  = WGCNA_DIR\n",
        "HUBS_CSV = f\"{SOURCE_FOLDER}/data/processed/hubs.csv\"\n",
        "MODULE_EXPORT_DIR = f\"{WGCNA_DIR}/modules\"\n",
        "\n",
        "# Garante que diretórios de saída existam\n",
        "os.makedirs(LNCRNA_DIR, exist_ok=True)\n",
        "os.makedirs(CHIPSEQ_LNCRNA_DIR, exist_ok=True)\n",
        "os.makedirs(WGCNA_DIR, exist_ok=True)\n",
        "os.makedirs(MODULE_EXPORT_DIR, exist_ok=True)\n",
        "\n",
        "# Hiperparâmetros e *thresholds* usados em múltiplas etapas\n",
        "MIN_COUNT = 10 # número mínimo de *reads* em uma amostra para contar como detectado\n",
        "MIN_SAMPLES = 1 # número mínimo de amostras atingindo MIN_COUNT\n",
        "\n",
        "PERCENTILE_THRESHOLD = 0.95 # 95th percentile\n",
        "\n",
        "# Genes para usar nos hubs/modulos\n",
        "TARGET_GENES = {'GATA6','GATA6-AS1'}  # ajuste se quisermos destacar outros\n",
        "\n",
        "# new /content/drive/MyDrive/Saude_lncRNA/data/external and raw\n",
        "ANNOTATION_GTF_FILE =  f'{SOURCE_FOLDER}/data/external and raw/gencode.v46.annotation.gtf.gz'\n",
        "LNCRNA_GTF_FILE =  f'{SOURCE_FOLDER}/data/external and raw/gencode.v46.long_noncoding_RNAs.gtf.gz'\n",
        "GRCH38_GTF_FILE =  f'{SOURCE_FOLDER}/data/external and raw/GRCh38.primary_assembly.genome.fa.gz'\n"
      ],
      "metadata": {
        "id": "LFy8nDhdfIdh"
      },
      "execution_count": null,
      "outputs": []
    },
    {
      "cell_type": "code",
      "source": [
        "annotation_gtf = load_gtf_gene_biotype(ANNOTATION_GTF_FILE)\n",
        "print(annotation_gtf.head())"
      ],
      "metadata": {
        "id": "i2VmqPmMl_ge"
      },
      "execution_count": null,
      "outputs": []
    },
    {
      "cell_type": "code",
      "source": [
        "lncrna_gtf = load_gtf_gene_biotype(LNCRNA_GTF_FILE)\n",
        "print(lncrna_gtf.head(300))"
      ],
      "metadata": {
        "id": "sZ2NRAc8grCS"
      },
      "execution_count": null,
      "outputs": []
    }
  ]
}